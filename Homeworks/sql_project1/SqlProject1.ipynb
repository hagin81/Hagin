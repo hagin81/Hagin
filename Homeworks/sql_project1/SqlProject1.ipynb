{
 "cells": [
  {
   "cell_type": "markdown",
   "metadata": {},
   "source": [
    "# 1a. Display the first and last names of all actors from the table actor.\n",
    "            "
   ]
  },
  {
   "cell_type": "markdown",
   "metadata": {},
   "source": [
    "select first_name, last_name from actor;"
   ]
  },
  {
   "cell_type": "markdown",
   "metadata": {},
   "source": [
    "![sql](Q1.png)"
   ]
  },
  {
   "cell_type": "markdown",
   "metadata": {},
   "source": [
    "## 1b. Display the first and last name of each actor in a single column in upper case letters. Name the column Actor Name."
   ]
  },
  {
   "cell_type": "markdown",
   "metadata": {},
   "source": [
    "select CONCAT (first_name,' ',last_name) as 'Actor Name' from actor;"
   ]
  },
  {
   "cell_type": "markdown",
   "metadata": {},
   "source": [
    "![sql1](Q1b.png)"
   ]
  },
  {
   "cell_type": "markdown",
   "metadata": {},
   "source": [
    "# 2a. You need to find the ID number, first name, and last name of an actor, of whom you know only the first name, \"Joe.\" What is one query would you use to obtain this information?\n"
   ]
  },
  {
   "cell_type": "markdown",
   "metadata": {},
   "source": [
    "select actor_id, first_name, last_name from actor where first_name='Joe';\n"
   ]
  },
  {
   "cell_type": "markdown",
   "metadata": {},
   "source": [
    "![q2](Q2.png)"
   ]
  },
  {
   "cell_type": "markdown",
   "metadata": {},
   "source": [
    "# 2b. Find all actors whose last name contain the letters GEN:\n"
   ]
  },
  {
   "cell_type": "markdown",
   "metadata": {},
   "source": [
    "select * from actor where last_name like '%GEN%';"
   ]
  },
  {
   "cell_type": "markdown",
   "metadata": {},
   "source": [
    "![sql](Q2b.png)"
   ]
  },
  {
   "cell_type": "markdown",
   "metadata": {},
   "source": [
    "## 2c. Find all actors whose last names contain the letters LI. This time, order the rows by last name and first name, in that order:\n"
   ]
  },
  {
   "cell_type": "markdown",
   "metadata": {},
   "source": [
    "select last_name, first_name from actor where last_name like '%%LI%%' order by last_name, first_name;\n"
   ]
  },
  {
   "cell_type": "markdown",
   "metadata": {},
   "source": [
    "![sql](Q2c.png)"
   ]
  },
  {
   "cell_type": "markdown",
   "metadata": {},
   "source": [
    "## 2d. Using IN, display the country_id and country columns of the following countries: Afghanistan, Bangladesh, and China:\n"
   ]
  },
  {
   "cell_type": "markdown",
   "metadata": {},
   "source": [
    "select country_id, country from country where country IN ('Afghanistan', 'Bangladesh', 'China');"
   ]
  },
  {
   "cell_type": "markdown",
   "metadata": {},
   "source": [
    "![sql](Q2d.png)"
   ]
  },
  {
   "cell_type": "markdown",
   "metadata": {},
   "source": [
    "## 3a. Add a middle_name column to the table actor. Position it between first_name and last_name. Hint: you will need to specify the data type.\n"
   ]
  },
  {
   "cell_type": "markdown",
   "metadata": {},
   "source": [
    "alter table actor add column middle_name varchar(100) after first_name;"
   ]
  },
  {
   "cell_type": "markdown",
   "metadata": {},
   "source": [
    "![sql](Q3a.png)"
   ]
  },
  {
   "cell_type": "code",
   "execution_count": 2,
   "metadata": {},
   "outputs": [
    {
     "name": "stdout",
     "output_type": "stream",
     "text": [
      "Requirement already satisfied: flask in /Users/samhagin/anaconda3/lib/python3.6/site-packages\n",
      "Requirement already satisfied: Werkzeug>=0.7 in /Users/samhagin/anaconda3/lib/python3.6/site-packages (from flask)\n",
      "Requirement already satisfied: Jinja2>=2.4 in /Users/samhagin/anaconda3/lib/python3.6/site-packages (from flask)\n",
      "Requirement already satisfied: itsdangerous>=0.21 in /Users/samhagin/anaconda3/lib/python3.6/site-packages (from flask)\n",
      "Requirement already satisfied: click>=2.0 in /Users/samhagin/anaconda3/lib/python3.6/site-packages (from flask)\n",
      "Requirement already satisfied: MarkupSafe>=0.23 in /Users/samhagin/anaconda3/lib/python3.6/site-packages (from Jinja2>=2.4->flask)\n",
      "\u001b[33mYou are using pip version 9.0.1, however version 9.0.3 is available.\n",
      "You should consider upgrading via the 'pip install --upgrade pip' command.\u001b[0m\n"
     ]
    }
   ],
   "source": [
    "!pip install flask"
   ]
  },
  {
   "cell_type": "code",
   "execution_count": null,
   "metadata": {},
   "outputs": [],
   "source": []
  }
 ],
 "metadata": {
  "kernelspec": {
   "display_name": "Python 3",
   "language": "python",
   "name": "python3"
  },
  "language_info": {
   "codemirror_mode": {
    "name": "ipython",
    "version": 3
   },
   "file_extension": ".py",
   "mimetype": "text/x-python",
   "name": "python",
   "nbconvert_exporter": "python",
   "pygments_lexer": "ipython3",
   "version": "3.6.4"
  }
 },
 "nbformat": 4,
 "nbformat_minor": 2
}
