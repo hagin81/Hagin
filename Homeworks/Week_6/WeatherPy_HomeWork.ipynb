{
 "cells": [
  {
   "cell_type": "code",
   "execution_count": 2,
   "metadata": {},
   "outputs": [
    {
     "name": "stdout",
     "output_type": "stream",
     "text": [
      "Requirement already satisfied: citipy in c:\\programdata\\anaconda3\\lib\\site-packages\n",
      "Requirement already satisfied: kdtree>=0.12 in c:\\programdata\\anaconda3\\lib\\site-packages (from citipy)\n"
     ]
    }
   ],
   "source": [
    "!pip install citipy"
   ]
  },
  {
   "cell_type": "code",
   "execution_count": 4,
   "metadata": {
    "collapsed": true
   },
   "outputs": [],
   "source": [
    "#import dependencies\n",
    "import json\n",
    "import matplotlib.pyplot as plt\n",
    "import requests\n",
    "from citipy import citipy\n",
    "import pandas as pd\n",
    "import numpy as np"
   ]
  },
  {
   "cell_type": "code",
   "execution_count": 15,
   "metadata": {},
   "outputs": [
    {
     "name": "stdout",
     "output_type": "stream",
     "text": [
      "['-61.87708709069013,39.97178369556403', '77.20685129887798,81.47661520031727', '24.44206962914093,-113.70801576304068', '-58.22226150659017,74.8620678377674', '9.507214496136228,81.39080547156152', '-87.92989487558366,-14.779754997215804', '-4.974319511157546,114.9022242783758', '74.40769530717793,112.10180268685383', '56.791590251827245,-37.01780972446571', '7.883688926431105,158.3615004355102']\n"
     ]
    }
   ],
   "source": [
    "#pair up latitudes and longitudes\n",
    "geo = []\n",
    "for i in range(10):\n",
    "    lat = np.random.uniform(-90,90)\n",
    "    long = np.random.uniform (-180, 180)\n",
    "    coordinates = str(lat)+ ',' + str(long)\n",
    "    geo.append(coordinates)\n",
    "    \n",
    "print(geo)"
   ]
  },
  {
   "cell_type": "code",
   "execution_count": null,
   "metadata": {
    "collapsed": true
   },
   "outputs": [],
   "source": []
  },
  {
   "cell_type": "code",
   "execution_count": null,
   "metadata": {
    "collapsed": true
   },
   "outputs": [],
   "source": []
  }
 ],
 "metadata": {
  "kernelspec": {
   "display_name": "Python 3",
   "language": "python",
   "name": "python3"
  },
  "language_info": {
   "codemirror_mode": {
    "name": "ipython",
    "version": 3
   },
   "file_extension": ".py",
   "mimetype": "text/x-python",
   "name": "python",
   "nbconvert_exporter": "python",
   "pygments_lexer": "ipython3",
   "version": "3.6.3"
  }
 },
 "nbformat": 4,
 "nbformat_minor": 2
}
